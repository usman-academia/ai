{
 "cells": [
  {
   "cell_type": "code",
   "execution_count": 2,
   "id": "c8401a1b",
   "metadata": {},
   "outputs": [],
   "source": [
    "import time\n",
    "from IPython.display import clear_output"
   ]
  },
  {
   "cell_type": "code",
   "execution_count": null,
   "id": "c210b0d7",
   "metadata": {},
   "outputs": [],
   "source": [
    "def display_board(board):\n",
    "    clear_output(wait=True)\n",
    "    n = len(board)\n",
    "    box_size = int(n**0.5) if int(n**0.5)**2 == n else None\n",
    "    print(\"+\" + (\"---+\" * n))\n",
    "    for i, row in enumerate(board):\n",
    "        print(\"|\", end=\"\")\n",
    "        for j, val in enumerate(row):\n",
    "            ch = str(val) if val != 0 else \".\"\n",
    "            print(f\" {ch} |\", end=\"\")\n",
    "        print()\n",
    "        print(\"+\" + (\"---+\" * n))\n",
    "\n",
    "def find_empty(board):\n",
    "    n = len(board)\n",
    "    for i in range(n):\n",
    "        for j in range(n):\n",
    "            if board[i][j] == 0:\n",
    "                return i, j\n",
    "    return None\n",
    "\n",
    "def is_safe(board, row, col, num):\n",
    "    n = len(board)\n",
    "    for k in range(n):\n",
    "        if board[row][k] == num or board[k][col] == num:\n",
    "            return False\n",
    "    box_size = int(n**0.5)\n",
    "    if box_size * box_size == n:\n",
    "        start_r = (row // box_size) * box_size\n",
    "        start_c = (col // box_size) * box_size\n",
    "        for i in range(start_r, start_r + box_size):\n",
    "            for j in range(start_c, start_c + box_size):\n",
    "                if board[i][j] == num:\n",
    "                    return False\n",
    "    return True\n",
    "\n",
    "def solve_sudoku_visual(board, pause=0.2):\n",
    "    empty = find_empty(board)\n",
    "    if not empty:\n",
    "        display_board(board)\n",
    "        print(\"🎉 Puzzle solved!\")\n",
    "        return True\n",
    "\n",
    "    row, col = empty\n",
    "    n = len(board)\n",
    "    display_board(board)\n",
    "    print(f\"Trying cell ({row}, {col})\")\n",
    "    time.sleep(pause)\n",
    "\n",
    "    for num in range(1, n + 1):\n",
    "        if is_safe(board, row, col, num):\n",
    "            board[row][col] = num\n",
    "            display_board(board)\n",
    "            print(f\"Placed {num} at ({row}, {col})\")\n",
    "            time.sleep(pause)\n",
    "\n",
    "            if solve_sudoku_visual(board, pause):\n",
    "                return True\n",
    "\n",
    "            board[row][col] = 0\n",
    "            display_board(board)\n",
    "            print(f\"Removed {num} from ({row}, {col})\")\n",
    "            time.sleep(pause)\n",
    "\n",
    "    return False"
   ]
  },
  {
   "cell_type": "code",
   "execution_count": 13,
   "id": "d8b67373",
   "metadata": {},
   "outputs": [
    {
     "name": "stdout",
     "output_type": "stream",
     "text": [
      "+---+---+---+---+\n",
      "| 1 | 3 | 2 | 4 |\n",
      "+---+---+---+---+\n",
      "| 2 | 4 | 3 | 1 |\n",
      "+---+---+---+---+\n",
      "| 4 | 2 | 1 | 3 |\n",
      "+---+---+---+---+\n",
      "| 3 | 1 | 4 | 2 |\n",
      "+---+---+---+---+\n",
      "🎉 Puzzle solved!\n"
     ]
    },
    {
     "data": {
      "text/plain": [
       "True"
      ]
     },
     "execution_count": 13,
     "metadata": {},
     "output_type": "execute_result"
    }
   ],
   "source": [
    "puzzle_4x4 = [\n",
    "    [1, 0, 0, 4],\n",
    "    [0, 0, 3, 0],\n",
    "    [0, 2, 0, 0],\n",
    "    [3, 0, 0, 2]\n",
    "]\n",
    "\n",
    "solve_sudoku_visual(puzzle_4x4, pause=0.3)"
   ]
  },
  {
   "cell_type": "code",
   "execution_count": null,
   "id": "1ac230f6",
   "metadata": {},
   "outputs": [],
   "source": []
  }
 ],
 "metadata": {
  "kernelspec": {
   "display_name": "base",
   "language": "python",
   "name": "python3"
  },
  "language_info": {
   "codemirror_mode": {
    "name": "ipython",
    "version": 3
   },
   "file_extension": ".py",
   "mimetype": "text/x-python",
   "name": "python",
   "nbconvert_exporter": "python",
   "pygments_lexer": "ipython3",
   "version": "3.12.7"
  }
 },
 "nbformat": 4,
 "nbformat_minor": 5
}
