{
 "cells": [
  {
   "cell_type": "code",
   "execution_count": 2,
   "id": "45abab6d",
   "metadata": {},
   "outputs": [],
   "source": [
    "import time\n",
    "from IPython.display import clear_output"
   ]
  },
  {
   "cell_type": "code",
   "execution_count": 3,
   "id": "bd21cb4c",
   "metadata": {},
   "outputs": [],
   "source": [
    "def display_board(board):\n",
    "    n = len(board)\n",
    "    print(\"+---\" * n + \"+\")\n",
    "    for row in board:\n",
    "        print(\"| \" + \" | \".join(row) + \" |\")\n",
    "        print(\"+---\" * n + \"+\")\n",
    "    print()"
   ]
  },
  {
   "cell_type": "code",
   "execution_count": null,
   "id": "03ec0d7a",
   "metadata": {},
   "outputs": [],
   "source": [
    "def solve_n_queens_simple(n, pause=0.5):\n",
    "    # Current board: \".\" empty, \"Q\" queen\n",
    "    board = []\n",
    "    for i in range(n):\n",
    "        # create a new row\n",
    "        row = []\n",
    "        for j in range(n):\n",
    "            row.append(\".\")\n",
    "        # add that row to the board\n",
    "        board.append(row)\n",
    "\n",
    "    solutions = []\n",
    "\n",
    "    def is_safe(r, c):\n",
    "        # Check column above\n",
    "        for i in range(r):\n",
    "            if board[i][c] == \"Q\":\n",
    "                return False\n",
    "        # Check diagonal up-left\n",
    "        i, j = r-1, c-1\n",
    "        while i >= 0 and j >= 0:\n",
    "            if board[i][j] == \"Q\": return False\n",
    "            i, j = i-1, j-1\n",
    "        # Check diagonal up-right\n",
    "        i, j = r-1, c+1\n",
    "        while i >= 0 and j < n:\n",
    "            if board[i][j] == \"Q\": return False\n",
    "            i, j = i-1, j+1\n",
    "        return True\n",
    "\n",
    "    def backtrack(row):\n",
    "        clear_output(wait=True)\n",
    "        print(f\"--> Trying row {row}\")\n",
    "        display_board(board)\n",
    "        time.sleep(pause)\n",
    "\n",
    "        # If we've placed all queens, record a solution\n",
    "        if row == n:\n",
    "            solutions.append([\"\".join(r) for r in board])\n",
    "            return\n",
    "\n",
    "        # Try each column in this row\n",
    "        for col in range(n):\n",
    "            if not is_safe(row, col):\n",
    "                continue\n",
    "\n",
    "            # Place queen\n",
    "            board[row][col] = \"Q\"\n",
    "            clear_output(wait=True)\n",
    "            print(f\"Placed Q at ({row}, {col})\")\n",
    "            display_board(board)\n",
    "            time.sleep(pause)\n",
    "\n",
    "            # Recurse to next row\n",
    "            backtrack(row + 1)\n",
    "\n",
    "            # Remove queen (backtrack)\n",
    "            clear_output(wait=True)\n",
    "            print(f\"Removing Q from ({row}, {col})\")\n",
    "            board[row][col] = \".\"\n",
    "            display_board(board)\n",
    "            time.sleep(pause)\n",
    "\n",
    "    backtrack(0)\n",
    "    clear_output(wait=True)\n",
    "    print(f\"Done! Found {len(solutions)} solutions.\")\n",
    "    return solutions"
   ]
  },
  {
   "cell_type": "code",
   "execution_count": 12,
   "id": "5f8e3068",
   "metadata": {},
   "outputs": [
    {
     "name": "stdout",
     "output_type": "stream",
     "text": [
      "Placed Q at (1, 3)\n",
      "+---+---+---+---+\n",
      "| . | Q | . | . |\n",
      "+---+---+---+---+\n",
      "| . | . | . | Q |\n",
      "+---+---+---+---+\n",
      "| . | . | . | . |\n",
      "+---+---+---+---+\n",
      "| . | . | . | . |\n",
      "+---+---+---+---+\n",
      "\n"
     ]
    },
    {
     "ename": "KeyboardInterrupt",
     "evalue": "",
     "output_type": "error",
     "traceback": [
      "\u001b[0;31m---------------------------------------------------------------------------\u001b[0m",
      "\u001b[0;31mKeyboardInterrupt\u001b[0m                         Traceback (most recent call last)",
      "Cell \u001b[0;32mIn[12], line 3\u001b[0m\n\u001b[1;32m      1\u001b[0m \u001b[38;5;66;03m# ─── Run and Visualize ─────────────────────────────────────────────────────────\u001b[39;00m\n\u001b[0;32m----> 3\u001b[0m solutions \u001b[38;5;241m=\u001b[39m solve_n_queens_simple(\u001b[38;5;241m4\u001b[39m, pause\u001b[38;5;241m=\u001b[39m\u001b[38;5;241m0.5\u001b[39m)\n\u001b[1;32m      4\u001b[0m \u001b[38;5;28mprint\u001b[39m(\u001b[38;5;124m\"\u001b[39m\u001b[38;5;124mAll solutions:\u001b[39m\u001b[38;5;124m\"\u001b[39m)\n\u001b[1;32m      5\u001b[0m \u001b[38;5;28;01mfor\u001b[39;00m idx, sol \u001b[38;5;129;01min\u001b[39;00m \u001b[38;5;28menumerate\u001b[39m(solutions, \u001b[38;5;241m1\u001b[39m):\n",
      "Cell \u001b[0;32mIn[11], line 56\u001b[0m, in \u001b[0;36msolve_n_queens_simple\u001b[0;34m(n, pause)\u001b[0m\n\u001b[1;32m     53\u001b[0m         display_board(board)\n\u001b[1;32m     54\u001b[0m         time\u001b[38;5;241m.\u001b[39msleep(pause)\n\u001b[0;32m---> 56\u001b[0m backtrack(\u001b[38;5;241m0\u001b[39m)\n\u001b[1;32m     57\u001b[0m clear_output(wait\u001b[38;5;241m=\u001b[39m\u001b[38;5;28;01mTrue\u001b[39;00m)\n\u001b[1;32m     58\u001b[0m \u001b[38;5;28mprint\u001b[39m(\u001b[38;5;124mf\u001b[39m\u001b[38;5;124m\"\u001b[39m\u001b[38;5;124mDone! Found \u001b[39m\u001b[38;5;132;01m{\u001b[39;00m\u001b[38;5;28mlen\u001b[39m(solutions)\u001b[38;5;132;01m}\u001b[39;00m\u001b[38;5;124m solutions.\u001b[39m\u001b[38;5;124m\"\u001b[39m)\n",
      "Cell \u001b[0;32mIn[11], line 47\u001b[0m, in \u001b[0;36msolve_n_queens_simple.<locals>.backtrack\u001b[0;34m(row)\u001b[0m\n\u001b[1;32m     44\u001b[0m time\u001b[38;5;241m.\u001b[39msleep(pause)\n\u001b[1;32m     46\u001b[0m \u001b[38;5;66;03m# Recurse to next row\u001b[39;00m\n\u001b[0;32m---> 47\u001b[0m backtrack(row \u001b[38;5;241m+\u001b[39m \u001b[38;5;241m1\u001b[39m)\n\u001b[1;32m     49\u001b[0m \u001b[38;5;66;03m# Remove queen (backtrack)\u001b[39;00m\n\u001b[1;32m     50\u001b[0m clear_output(wait\u001b[38;5;241m=\u001b[39m\u001b[38;5;28;01mTrue\u001b[39;00m)\n",
      "Cell \u001b[0;32mIn[11], line 44\u001b[0m, in \u001b[0;36msolve_n_queens_simple.<locals>.backtrack\u001b[0;34m(row)\u001b[0m\n\u001b[1;32m     42\u001b[0m \u001b[38;5;28mprint\u001b[39m(\u001b[38;5;124mf\u001b[39m\u001b[38;5;124m\"\u001b[39m\u001b[38;5;124mPlaced Q at (\u001b[39m\u001b[38;5;132;01m{\u001b[39;00mrow\u001b[38;5;132;01m}\u001b[39;00m\u001b[38;5;124m, \u001b[39m\u001b[38;5;132;01m{\u001b[39;00mcol\u001b[38;5;132;01m}\u001b[39;00m\u001b[38;5;124m)\u001b[39m\u001b[38;5;124m\"\u001b[39m)\n\u001b[1;32m     43\u001b[0m display_board(board)\n\u001b[0;32m---> 44\u001b[0m time\u001b[38;5;241m.\u001b[39msleep(pause)\n\u001b[1;32m     46\u001b[0m \u001b[38;5;66;03m# Recurse to next row\u001b[39;00m\n\u001b[1;32m     47\u001b[0m backtrack(row \u001b[38;5;241m+\u001b[39m \u001b[38;5;241m1\u001b[39m)\n",
      "\u001b[0;31mKeyboardInterrupt\u001b[0m: "
     ]
    }
   ],
   "source": [
    "# ─── Run and Visualize ─────────────────────────────────────────────────────────\n",
    "\n",
    "solutions = solve_n_queens_simple(4, pause=0.5)\n",
    "print(\"All solutions:\")\n",
    "for idx, sol in enumerate(solutions, 1):\n",
    "    print(f\"\\nSolution #{idx}:\")\n",
    "    for row in sol:\n",
    "        print(\" \".join(row))"
   ]
  },
  {
   "cell_type": "code",
   "execution_count": null,
   "id": "b1d67d56",
   "metadata": {},
   "outputs": [],
   "source": []
  }
 ],
 "metadata": {
  "kernelspec": {
   "display_name": "base",
   "language": "python",
   "name": "python3"
  },
  "language_info": {
   "codemirror_mode": {
    "name": "ipython",
    "version": 3
   },
   "file_extension": ".py",
   "mimetype": "text/x-python",
   "name": "python",
   "nbconvert_exporter": "python",
   "pygments_lexer": "ipython3",
   "version": "3.12.7"
  }
 },
 "nbformat": 4,
 "nbformat_minor": 5
}
