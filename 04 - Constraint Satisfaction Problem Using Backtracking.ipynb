{
 "cells": [
  {
   "cell_type": "code",
   "execution_count": 1,
   "id": "45abab6d",
   "metadata": {},
   "outputs": [],
   "source": [
    "import time\n",
    "from IPython.display import clear_output"
   ]
  },
  {
   "cell_type": "code",
   "execution_count": 2,
   "id": "bd21cb4c",
   "metadata": {},
   "outputs": [],
   "source": [
    "def display_board(board):\n",
    "    n = len(board)\n",
    "    print(\"+---\" * n + \"+\")\n",
    "    for row in board:\n",
    "        print(\"| \" + \" | \".join(row) + \" |\")\n",
    "        print(\"+---\" * n + \"+\")\n",
    "    print()"
   ]
  },
  {
   "cell_type": "code",
   "execution_count": 3,
   "id": "03ec0d7a",
   "metadata": {},
   "outputs": [],
   "source": [
    "def solve_n_queens_simple(n, pause=0.5):\n",
    "    # Current board: \".\" empty, \"Q\" queen\n",
    "    board = []\n",
    "    for i in range(n):\n",
    "        # create a new row\n",
    "        row = []\n",
    "        for j in range(n):\n",
    "            row.append(\".\")\n",
    "        # add that row to the board\n",
    "        board.append(row)\n",
    "\n",
    "    solutions = []\n",
    "\n",
    "    def is_safe(r, c):\n",
    "        # Check column above\n",
    "        for i in range(r):\n",
    "            if board[i][c] == \"Q\":\n",
    "                return False\n",
    "        # Check diagonal up-left\n",
    "        i, j = r-1, c-1\n",
    "        while i >= 0 and j >= 0:\n",
    "            if board[i][j] == \"Q\": return False\n",
    "            i, j = i-1, j-1\n",
    "        # Check diagonal up-right\n",
    "        i, j = r-1, c+1\n",
    "        while i >= 0 and j < n:\n",
    "            if board[i][j] == \"Q\": return False\n",
    "            i, j = i-1, j+1\n",
    "        return True\n",
    "\n",
    "    def backtrack(row):\n",
    "        clear_output(wait=True)\n",
    "        print(f\"--> Trying row {row}\")\n",
    "        display_board(board)\n",
    "        time.sleep(pause)\n",
    "\n",
    "        # If we've placed all queens, record a solution\n",
    "        if row == n:\n",
    "            solutions.append([\"\".join(r) for r in board])\n",
    "            return\n",
    "\n",
    "        # Try each column in this row\n",
    "        for col in range(n):\n",
    "            if not is_safe(row, col):\n",
    "                continue\n",
    "\n",
    "            # Place queen\n",
    "            board[row][col] = \"Q\"\n",
    "            clear_output(wait=True)\n",
    "            print(f\"Placed Q at ({row}, {col})\")\n",
    "            display_board(board)\n",
    "            time.sleep(pause)\n",
    "\n",
    "            # Recurse to next row\n",
    "            backtrack(row + 1)\n",
    "\n",
    "            # Remove queen (backtrack)\n",
    "            clear_output(wait=True)\n",
    "            print(f\"Removing Q from ({row}, {col})\")\n",
    "            board[row][col] = \".\"\n",
    "            display_board(board)\n",
    "            time.sleep(pause)\n",
    "\n",
    "    backtrack(0)\n",
    "    clear_output(wait=True)\n",
    "    print(f\"Done! Found {len(solutions)} solutions.\")\n",
    "    return solutions"
   ]
  },
  {
   "cell_type": "code",
   "execution_count": 4,
   "id": "5f8e3068",
   "metadata": {},
   "outputs": [
    {
     "name": "stdout",
     "output_type": "stream",
     "text": [
      "Done! Found 2 solutions.\n",
      "All solutions:\n",
      "\n",
      "Solution #1:\n",
      ". Q . .\n",
      ". . . Q\n",
      "Q . . .\n",
      ". . Q .\n",
      "\n",
      "Solution #2:\n",
      ". . Q .\n",
      "Q . . .\n",
      ". . . Q\n",
      ". Q . .\n"
     ]
    }
   ],
   "source": [
    "# ─── Run and Visualize ─────────────────────────────────────────────────────────\n",
    "\n",
    "solutions = solve_n_queens_simple(4, pause=0.5)\n",
    "print(\"All solutions:\")\n",
    "for idx, sol in enumerate(solutions, 1):\n",
    "    print(f\"\\nSolution #{idx}:\")\n",
    "    for row in sol:\n",
    "        print(\" \".join(row))"
   ]
  }
 ],
 "metadata": {
  "kernelspec": {
   "display_name": "base",
   "language": "python",
   "name": "python3"
  },
  "language_info": {
   "codemirror_mode": {
    "name": "ipython",
    "version": 3
   },
   "file_extension": ".py",
   "mimetype": "text/x-python",
   "name": "python",
   "nbconvert_exporter": "python",
   "pygments_lexer": "ipython3",
   "version": "3.12.7"
  }
 },
 "nbformat": 4,
 "nbformat_minor": 5
}
