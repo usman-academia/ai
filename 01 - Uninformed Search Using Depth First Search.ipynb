{
  "cells": [
    {
      "cell_type": "code",
      "execution_count": 1,
      "metadata": {},
      "outputs": [],
      "source": [
        "from IPython.display import clear_output\n",
        "import time\n",
        "import copy"
      ]
    },
    {
      "cell_type": "code",
      "execution_count": 2,
      "metadata": {},
      "outputs": [],
      "source": [
        "def clear_screen():\n",
        "    clear_output(wait=True)\n",
        "\n",
        "def display_board(board):\n",
        "    print(\"+---+---+---+\")\n",
        "    for row in board:\n",
        "        print(\"|\", end=\"\")\n",
        "        for cell in row:\n",
        "            tile = ' ' if cell == 0 else str(cell)\n",
        "            print(f\" {tile} |\", end=\"\")\n",
        "        print(\"\\n+---+---+---+\")\n",
        "    print()\n",
        "\n",
        "def find_zero(board):\n",
        "    for i in range(3):\n",
        "        for j in range(3):\n",
        "            if board[i][j] == 0:\n",
        "                return i, j\n",
        "    raise ValueError(\"No zero found in board.\")\n",
        "\n",
        "def move_up(state):\n",
        "    x, y = find_zero(state)\n",
        "    if x == 0:\n",
        "        return None\n",
        "    new_state = copy.deepcopy(state)\n",
        "    new_state[x][y], new_state[x-1][y] = new_state[x-1][y], new_state[x][y]\n",
        "    return new_state\n",
        "\n",
        "def move_down(state):\n",
        "    x, y = find_zero(state)\n",
        "    if x == 2:\n",
        "        return None\n",
        "    new_state = copy.deepcopy(state)\n",
        "    new_state[x][y], new_state[x+1][y] = new_state[x+1][y], new_state[x][y]\n",
        "    return new_state\n",
        "\n",
        "def move_left(state):\n",
        "    x, y = find_zero(state)\n",
        "    if y == 0:\n",
        "        return None\n",
        "    new_state = copy.deepcopy(state)\n",
        "    new_state[x][y], new_state[x][y-1] = new_state[x][y-1], new_state[x][y]\n",
        "    return new_state\n",
        "\n",
        "def move_right(state):\n",
        "    x, y = find_zero(state)\n",
        "    if y == 2:\n",
        "        return None\n",
        "    new_state = copy.deepcopy(state)\n",
        "    new_state[x][y], new_state[x][y+1] = new_state[x][y+1], new_state[x][y]\n",
        "    return new_state\n",
        "\n",
        "def get_valid_moves(board):\n",
        "    x, y = find_zero(board)\n",
        "    moves = []\n",
        "    if x > 0: moves.append(move_up)\n",
        "    if x < 2: moves.append(move_down)\n",
        "    if y > 0: moves.append(move_left)\n",
        "    if y < 2: moves.append(move_right)\n",
        "    return moves\n",
        "\n",
        "# To convert board to tuple for hashing\n",
        "def board_to_tuple(board):\n",
        "    return tuple(tuple(row) for row in board)"
      ]
    },
    {
      "cell_type": "code",
      "execution_count": 3,
      "metadata": {},
      "outputs": [],
      "source": [
        "# Depth-First Search for 8-puzzle\n",
        "def dfs(start, goal, max_depth=20):\n",
        "    stack = [(start, [])]  # (current_state, path_so_far)\n",
        "    visited = set()\n",
        "\n",
        "    steps = 0\n",
        "\n",
        "    while stack:\n",
        "        current, path = stack.pop()\n",
        "\n",
        "        clear_screen()\n",
        "        print(f\"Depth: {len(path)}\")\n",
        "        display_board(current)\n",
        "        time.sleep(0.1)\n",
        "\n",
        "        if current == goal:\n",
        "            print(f\"🎉 Goal reached in {steps} steps!\")\n",
        "            return path + [current]\n",
        "\n",
        "        if len(path) >= max_depth:\n",
        "            continue\n",
        "\n",
        "        visited.add(board_to_tuple(current))\n",
        "\n",
        "        for move in get_valid_moves(current):\n",
        "            new_state = move(current)\n",
        "            if new_state and board_to_tuple(new_state) not in visited:\n",
        "                stack.append((new_state, path + [current]))\n",
        "        steps += 1\n",
        "\n",
        "    print(\"❌ Goal not reachable within depth limit.\")\n",
        "    return None"
      ]
    },
    {
      "cell_type": "code",
      "execution_count": 4,
      "metadata": {},
      "outputs": [
        {
          "name": "stdout",
          "output_type": "stream",
          "text": [
            "Depth: 4\n",
            "+---+---+---+\n",
            "| 1 | 2 | 3 |\n",
            "+---+---+---+\n",
            "| 4 | 5 | 6 |\n",
            "+---+---+---+\n",
            "| 7 | 8 |   |\n",
            "+---+---+---+\n",
            "\n",
            "🎉 Goal reached in 30 steps!\n"
          ]
        },
        {
          "data": {
            "text/plain": [
              "[[[0, 1, 3], [4, 2, 5], [7, 8, 6]],\n",
              " [[1, 0, 3], [4, 2, 5], [7, 8, 6]],\n",
              " [[1, 2, 3], [4, 0, 5], [7, 8, 6]],\n",
              " [[1, 2, 3], [4, 5, 0], [7, 8, 6]],\n",
              " [[1, 2, 3], [4, 5, 6], [7, 8, 0]]]"
            ]
          },
          "execution_count": 4,
          "metadata": {},
          "output_type": "execute_result"
        }
      ],
      "source": [
        "starting_node = [[0, 1, 3], [4, 2, 5], [7, 8, 6]]\n",
        "goal_node = [[1, 2, 3], [4, 5, 6], [7, 8, 0]]\n",
        "\n",
        "dfs(starting_node, goal_node, max_depth=8)"
      ]
    },
    {
      "cell_type": "markdown",
      "metadata": {},
      "source": [
        "***\n",
        "***\n",
        "***"
      ]
    }
  ],
  "metadata": {
    "colab": {
      "provenance": []
    },
    "kernelspec": {
      "display_name": "base",
      "language": "python",
      "name": "python3"
    },
    "language_info": {
      "codemirror_mode": {
        "name": "ipython",
        "version": 3
      },
      "file_extension": ".py",
      "mimetype": "text/x-python",
      "name": "python",
      "nbconvert_exporter": "python",
      "pygments_lexer": "ipython3",
      "version": "3.12.7"
    }
  },
  "nbformat": 4,
  "nbformat_minor": 0
}
