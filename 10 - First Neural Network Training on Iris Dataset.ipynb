{
 "cells": [
  {
   "cell_type": "markdown",
   "id": "695f1f9a",
   "metadata": {},
   "source": [
    "<h3>📦 Importing Required Libraries</h3>\n",
    "\n",
    "<ul>\n",
    "  <li><b>pandas</b>: For data manipulation (e.g., loading and analyzing data).</li>\n",
    "  <li><b>matplotlib.pyplot</b>: To plot loss and accuracy graphs.</li>\n",
    "  <li><b>torch</b> & <b>torch.nn</b>: PyTorch for building and training neural networks.</li>\n",
    "  <li><b>torch.nn.functional</b>: For useful functions (e.g., activation, similarity, one-hot encoding).</li>\n",
    "  <li><b>sklearn.datasets</b>: Provides ready-to-use datasets for training/testing.</li>\n",
    "</ul>\n",
    "\n",
    "<p><b>Example:</b></p>\n",
    "\n",
    "<pre>\n",
    "from sklearn.datasets import load_iris\n",
    "data = load_iris()\n",
    "print(data['target_names'])  # ['setosa' 'versicolor' 'virginica']\n",
    "</pre>\n"
   ]
  },
  {
   "cell_type": "code",
   "execution_count": 1,
   "id": "be902486",
   "metadata": {},
   "outputs": [],
   "source": [
    "import pandas as pd                         # Pandas for data manipulation\n",
    "import matplotlib.pyplot as plt             # To plot the training and testing graphs of losses and accuracies\n",
    "from torch import nn                        # For designing the neural network architecture\n",
    "import torch                                # PyTorch library\n",
    "from sklearn import datasets                # For using pre-available datasets\n",
    "from torch.nn import functional as F        # For using already defined functions like dot-product, cross-product, one-hot-encoding, cosine similarity etc"
   ]
  },
  {
   "cell_type": "markdown",
   "id": "3e1c72ab",
   "metadata": {},
   "source": [
    "<hr>\n",
    "<h3>🌸 Loading and Preparing the Iris Dataset</h3>\n",
    "\n",
    "<ul>\n",
    "  <li><b>datasets.load_iris()</b>: Loads the famous Iris flower dataset.</li>\n",
    "  <li><b>X</b>: Stores the features (sepal and petal measurements).</li>\n",
    "  <li><b>Y</b>: Stores the target labels (flower species).</li>\n",
    "  <li><b>pd.concat()</b>: Combines features and labels into one dataset.</li>\n",
    "  <li><b>dataset.columns</b>: Renames the columns for better readability.</li>\n",
    "  <li><b>dataset</b>: Displays the complete dataset.</li>\n",
    "</ul>\n",
    "\n",
    "<p><b>Example rows:</b></p>\n",
    "\n",
    "<pre>\n",
    "   sepal_length  sepal_width  petal_length  petal_width  target\n",
    "0           5.1          3.5           1.4          0.2       0\n",
    "1           4.9          3.0           1.4          0.2       0\n",
    "</pre>"
   ]
  },
  {
   "cell_type": "code",
   "execution_count": 2,
   "id": "99964a5f",
   "metadata": {},
   "outputs": [
    {
     "data": {
      "text/html": [
       "<div>\n",
       "<style scoped>\n",
       "    .dataframe tbody tr th:only-of-type {\n",
       "        vertical-align: middle;\n",
       "    }\n",
       "\n",
       "    .dataframe tbody tr th {\n",
       "        vertical-align: top;\n",
       "    }\n",
       "\n",
       "    .dataframe thead th {\n",
       "        text-align: right;\n",
       "    }\n",
       "</style>\n",
       "<table border=\"1\" class=\"dataframe\">\n",
       "  <thead>\n",
       "    <tr style=\"text-align: right;\">\n",
       "      <th></th>\n",
       "      <th>sepal_length</th>\n",
       "      <th>sepal_width</th>\n",
       "      <th>petal_length</th>\n",
       "      <th>petal_width</th>\n",
       "      <th>target</th>\n",
       "    </tr>\n",
       "  </thead>\n",
       "  <tbody>\n",
       "    <tr>\n",
       "      <th>0</th>\n",
       "      <td>5.1</td>\n",
       "      <td>3.5</td>\n",
       "      <td>1.4</td>\n",
       "      <td>0.2</td>\n",
       "      <td>0</td>\n",
       "    </tr>\n",
       "    <tr>\n",
       "      <th>1</th>\n",
       "      <td>4.9</td>\n",
       "      <td>3.0</td>\n",
       "      <td>1.4</td>\n",
       "      <td>0.2</td>\n",
       "      <td>0</td>\n",
       "    </tr>\n",
       "    <tr>\n",
       "      <th>2</th>\n",
       "      <td>4.7</td>\n",
       "      <td>3.2</td>\n",
       "      <td>1.3</td>\n",
       "      <td>0.2</td>\n",
       "      <td>0</td>\n",
       "    </tr>\n",
       "    <tr>\n",
       "      <th>3</th>\n",
       "      <td>4.6</td>\n",
       "      <td>3.1</td>\n",
       "      <td>1.5</td>\n",
       "      <td>0.2</td>\n",
       "      <td>0</td>\n",
       "    </tr>\n",
       "    <tr>\n",
       "      <th>4</th>\n",
       "      <td>5.0</td>\n",
       "      <td>3.6</td>\n",
       "      <td>1.4</td>\n",
       "      <td>0.2</td>\n",
       "      <td>0</td>\n",
       "    </tr>\n",
       "    <tr>\n",
       "      <th>...</th>\n",
       "      <td>...</td>\n",
       "      <td>...</td>\n",
       "      <td>...</td>\n",
       "      <td>...</td>\n",
       "      <td>...</td>\n",
       "    </tr>\n",
       "    <tr>\n",
       "      <th>145</th>\n",
       "      <td>6.7</td>\n",
       "      <td>3.0</td>\n",
       "      <td>5.2</td>\n",
       "      <td>2.3</td>\n",
       "      <td>2</td>\n",
       "    </tr>\n",
       "    <tr>\n",
       "      <th>146</th>\n",
       "      <td>6.3</td>\n",
       "      <td>2.5</td>\n",
       "      <td>5.0</td>\n",
       "      <td>1.9</td>\n",
       "      <td>2</td>\n",
       "    </tr>\n",
       "    <tr>\n",
       "      <th>147</th>\n",
       "      <td>6.5</td>\n",
       "      <td>3.0</td>\n",
       "      <td>5.2</td>\n",
       "      <td>2.0</td>\n",
       "      <td>2</td>\n",
       "    </tr>\n",
       "    <tr>\n",
       "      <th>148</th>\n",
       "      <td>6.2</td>\n",
       "      <td>3.4</td>\n",
       "      <td>5.4</td>\n",
       "      <td>2.3</td>\n",
       "      <td>2</td>\n",
       "    </tr>\n",
       "    <tr>\n",
       "      <th>149</th>\n",
       "      <td>5.9</td>\n",
       "      <td>3.0</td>\n",
       "      <td>5.1</td>\n",
       "      <td>1.8</td>\n",
       "      <td>2</td>\n",
       "    </tr>\n",
       "  </tbody>\n",
       "</table>\n",
       "<p>150 rows × 5 columns</p>\n",
       "</div>"
      ],
      "text/plain": [
       "     sepal_length  sepal_width  petal_length  petal_width  target\n",
       "0             5.1          3.5           1.4          0.2       0\n",
       "1             4.9          3.0           1.4          0.2       0\n",
       "2             4.7          3.2           1.3          0.2       0\n",
       "3             4.6          3.1           1.5          0.2       0\n",
       "4             5.0          3.6           1.4          0.2       0\n",
       "..            ...          ...           ...          ...     ...\n",
       "145           6.7          3.0           5.2          2.3       2\n",
       "146           6.3          2.5           5.0          1.9       2\n",
       "147           6.5          3.0           5.2          2.0       2\n",
       "148           6.2          3.4           5.4          2.3       2\n",
       "149           5.9          3.0           5.1          1.8       2\n",
       "\n",
       "[150 rows x 5 columns]"
      ]
     },
     "execution_count": 2,
     "metadata": {},
     "output_type": "execute_result"
    }
   ],
   "source": [
    "iris = datasets.load_iris()                                                                     # Load iris dataset from the pre-available repository\n",
    "X = pd.DataFrame(iris.data)                                                                     # Separating features from the dataset\n",
    "Y = pd.DataFrame(iris.target)                                                                   # Separating targets from the dataset\n",
    "dataset = pd.concat([X, Y], axis=1)                                                             # Concatenating both the features and targets into one dataset\n",
    "dataset.columns = [\"sepal_length\",\"sepal_width\",\"petal_length\",\"petal_width\",\"target\"]          # Giving names to the columns of the dataset\n",
    "\n",
    "dataset                                                                                         # Displaying the dataset"
   ]
  },
  {
   "cell_type": "markdown",
   "id": "d5c5d606",
   "metadata": {},
   "source": [
    "<hr>\n",
    "<h3>🧪 Splitting the Dataset into Train and Test Sets</h3>\n",
    "\n",
    "<ul>\n",
    "  <li><b>dataset.sample(frac=0.8)</b>: Randomly selects 80% of the data for training.</li>\n",
    "  <li><b>random_state=200</b>: Ensures reproducibility (same split every time).</li>\n",
    "  <li><b>dataset.drop(train_set.index)</b>: Gets the remaining 20% as the test set.</li>\n",
    "  <li><b>train_set.shape</b>: Shows the number of rows and columns in the training set.</li>\n",
    "</ul>\n",
    "\n",
    "<p><b>Example:</b></p>\n",
    "\n",
    "<pre>\n",
    "train_set.shape\n",
    "# Output: (120, 5)\n",
    "</pre>"
   ]
  },
  {
   "cell_type": "code",
   "execution_count": 3,
   "id": "9b17b78f",
   "metadata": {},
   "outputs": [
    {
     "data": {
      "text/plain": [
       "(120, 5)"
      ]
     },
     "execution_count": 3,
     "metadata": {},
     "output_type": "execute_result"
    }
   ],
   "source": [
    "train_set = dataset.sample(frac=0.8, random_state=200)          # Selecting 80% random training examples with labels as train_set from the dataset\n",
    "test_set = dataset.drop(train_set.index)                        # Selecting rest of the 20% samples from the dataset by removing the already selected, as test_set\n",
    "\n",
    "train_set.shape                                                 # Display the shape/dimensions of the train_set"
   ]
  },
  {
   "cell_type": "markdown",
   "id": "f1202983",
   "metadata": {},
   "source": [
    "<hr>\n",
    "<h3>🔁 Converting DataFrames to Tensors</h3>\n",
    "\n",
    "<ul>\n",
    "  <li><b>train_x</b>: First 4 columns (features) from train set, converted to float tensor.</li>\n",
    "  <li><b>train_y</b>: Target column from train set, converted to float tensor.</li>\n",
    "  <li><b>test_x</b>: First 4 columns (features) from test set, converted to float tensor.</li>\n",
    "  <li><b>test_y</b>: Target column from test set, converted to float tensor.</li>\n",
    "  <li><b>train_x.shape, train_y.shape</b>: Shows number of samples and features/labels.</li>\n",
    "</ul>\n",
    "\n",
    "<p><b>Example:</b></p>\n",
    "\n",
    "<pre>\n",
    "train_x.shape  # torch.Size([120, 4])\n",
    "train_y.shape  # torch.Size([120, 1])\n",
    "</pre>"
   ]
  },
  {
   "cell_type": "code",
   "execution_count": 4,
   "id": "44ac0b90",
   "metadata": {},
   "outputs": [
    {
     "data": {
      "text/plain": [
       "(torch.Size([120, 4]), torch.Size([120, 1]))"
      ]
     },
     "execution_count": 4,
     "metadata": {},
     "output_type": "execute_result"
    }
   ],
   "source": [
    "train_x = torch.from_numpy(train_set[[\"sepal_length\",\"sepal_width\",\"petal_length\",\"petal_width\"]].values).float()   # Selecting the first four features and converting it to tensor\n",
    "train_y = torch.from_numpy(train_set[[\"target\"]].values).float()                                                    # Selecting the last column, label/targets, converting it to tensor\n",
    "test_x = torch.from_numpy(test_set[[\"sepal_length\",\"sepal_width\",\"petal_length\",\"petal_width\"]].values).float()     # Selecting the first four features and converting it to tensor\n",
    "test_y = torch.from_numpy(test_set[[\"target\"]].values).float()                                                      # Selecting the last column, label/targets, converting it to tensor\n",
    "\n",
    "train_x.shape, train_y.shape                                                                                        # Displaying the shape/dimensions of the train_set (features and targets)"
   ]
  },
  {
   "cell_type": "markdown",
   "id": "92abedd5",
   "metadata": {},
   "source": [
    "<hr>\n",
    "<h3>🧠 Defining a Custom Neural Network</h3>\n",
    "\n",
    "<ul>\n",
    "  <li><b>MyNN(nn.Module)</b>: Custom neural network class inheriting from <code>nn.Module</code>.</li>\n",
    "  <li><b>__init__()</b>: Defines the architecture (layers and activations).</li>\n",
    "  <li><b>forward()</b>: Describes how input flows through the layers.</li>\n",
    "</ul>\n",
    "\n",
    "<p><b>Architecture:</b></p>\n",
    "<ul>\n",
    "  <li><b>Input Layer:</b> 4 → 3 neurons</li>\n",
    "  <li><b>ReLU Activation</b></li>\n",
    "  <li><b>Hidden Layer:</b> 3 → 2 neurons</li>\n",
    "  <li><b>ReLU Activation</b></li>\n",
    "  <li><b>Output Layer:</b> 2 → 3 neurons</li>\n",
    "</ul>\n",
    "\n",
    "<p><b>Example:</b></p>\n",
    "\n",
    "<pre>\n",
    "model = MyNN()\n",
    "print(model)\n",
    "</pre>"
   ]
  },
  {
   "cell_type": "code",
   "execution_count": 5,
   "id": "20efc515",
   "metadata": {},
   "outputs": [],
   "source": [
    "class MyNN(nn.Module):                              # Inherit nn.Module class into your own architecture class\n",
    "\n",
    "    def __init__(self):                             # Constructor of your custom class\n",
    "        super(MyNN, self).__init__()                # Calling constructor of the super/parent class\n",
    "        self.input_layer = nn.Linear(4, 3)          # 4 input and 3 output neurons\n",
    "        self.activation_1 = nn.ReLU()               # 3 input and 3 output values\n",
    "        self.hidden_layer = nn.Linear(3, 2)         # 3 input and 2 output neurons\n",
    "        self.activation_2 = nn.ReLU()               # 2 input and 2 output values\n",
    "        self.output_layer = nn.Linear(2, 3)         # 2 input and 3 output neurons\n",
    "    \n",
    "    def forward(self, features):\n",
    "        features = self.input_layer(features)       # Passing values from the input_layer (4x3)\n",
    "        features = self.activation_1(features)      # Passing values from the activation\n",
    "        features = self.hidden_layer(features)      # Passing values from the hidden_layer (3x2)\n",
    "        features = self.activation_2(features)      # Passing values from the activation\n",
    "        features = self.output_layer(features)      # Passing values from the output_layer (2x3)\n",
    "        return features                             # Return the final values   (3x1)"
   ]
  },
  {
   "cell_type": "markdown",
   "id": "ea1919eb",
   "metadata": {},
   "source": [
    "<hr>\n",
    "<h3>🔢 One-Hot Encoding the Labels</h3>\n",
    "\n",
    "<ul>\n",
    "  <li><b>F.one_hot()</b>: Converts class labels into one-hot encoded vectors.</li>\n",
    "  <li><b>squeeze()</b>: Removes extra dimensions (e.g., [120,1] → [120]).</li>\n",
    "  <li><b>long()</b>: Ensures labels are in integer format for encoding.</li>\n",
    "  <li><b>test_y_one_hot</b>: Displays the encoded vectors (e.g., class 2 → [0, 0, 1]).</li>\n",
    "</ul>\n",
    "\n",
    "<p><b>Example:</b></p>\n",
    "\n",
    "<pre>\n",
    "Label: 1 → One-hot: [0, 1, 0]\n",
    "Label: 2 → One-hot: [0, 0, 1]\n",
    "</pre>"
   ]
  },
  {
   "cell_type": "code",
   "execution_count": 6,
   "id": "fbfa1516",
   "metadata": {},
   "outputs": [
    {
     "data": {
      "text/plain": [
       "tensor([[1, 0, 0],\n",
       "        [1, 0, 0],\n",
       "        [1, 0, 0],\n",
       "        [1, 0, 0],\n",
       "        [1, 0, 0],\n",
       "        [1, 0, 0],\n",
       "        [1, 0, 0],\n",
       "        [1, 0, 0],\n",
       "        [0, 1, 0],\n",
       "        [0, 1, 0],\n",
       "        [0, 1, 0],\n",
       "        [0, 1, 0],\n",
       "        [0, 1, 0],\n",
       "        [0, 1, 0],\n",
       "        [0, 1, 0],\n",
       "        [0, 1, 0],\n",
       "        [0, 1, 0],\n",
       "        [0, 1, 0],\n",
       "        [0, 0, 1],\n",
       "        [0, 0, 1],\n",
       "        [0, 0, 1],\n",
       "        [0, 0, 1],\n",
       "        [0, 0, 1],\n",
       "        [0, 0, 1],\n",
       "        [0, 0, 1],\n",
       "        [0, 0, 1],\n",
       "        [0, 0, 1],\n",
       "        [0, 0, 1],\n",
       "        [0, 0, 1],\n",
       "        [0, 0, 1]])"
      ]
     },
     "execution_count": 6,
     "metadata": {},
     "output_type": "execute_result"
    }
   ],
   "source": [
    "train_y_one_hot = F.one_hot(train_y.squeeze().long())   # One-Hot-Encoding of the train labels\n",
    "test_y_one_hot = F.one_hot(test_y.squeeze().long())     # One-Hot-Encoding of the test labels\n",
    "\n",
    "test_y_one_hot                                          # Displaying the one-hot-encoded vectors "
   ]
  },
  {
   "cell_type": "markdown",
   "id": "d10181d4",
   "metadata": {},
   "source": [
    "<hr>\n",
    "<h3>⚙️ Model Setup: Loss, Optimizer, and Training Config</h3>\n",
    "\n",
    "<ul>\n",
    "  <li><b>model = MyNN()</b>: Creates an instance of the neural network.</li>\n",
    "  <li><b>nn.CrossEntropyLoss()</b>: Loss function for multi-class classification.</li>\n",
    "  <li><b>torch.optim.SGD()</b>: Optimizer that updates weights using Stochastic Gradient Descent.</li>\n",
    "  <li><b>lr=0.01</b>: Learning rate — controls how fast the model learns.</li>\n",
    "  <li><b>losses = []</b>: To store loss values for each epoch.</li>\n",
    "  <li><b>epochs = 20000</b>: Number of full passes through the training data.</li>\n",
    "</ul>\n",
    "\n",
    "<p><b>Example:</b></p>\n",
    "\n",
    "<pre>\n",
    "optimizer = torch.optim.SGD(model.parameters(), lr=0.01)\n",
    "</pre>"
   ]
  },
  {
   "cell_type": "code",
   "execution_count": 7,
   "id": "1021dcf1",
   "metadata": {},
   "outputs": [],
   "source": [
    "model = MyNN()                                              # Creating an actual object/instance of our architecture/model class\n",
    "criterion = nn.CrossEntropyLoss()                           # The loss function used in classification problem\n",
    "optimizer = torch.optim.SGD(model.parameters(), lr=0.01)    # Used for updating model's weights with a specified learning rate\n",
    "losses = []                                                 # We will use this list to store our losses at each epoch for plotting later\n",
    "epochs = 5000                                              # Number of epochs"
   ]
  },
  {
   "cell_type": "markdown",
   "id": "08057874",
   "metadata": {},
   "source": [
    "<hr>\n",
    "<h3>🔁 Training the Neural Network</h3>\n",
    "\n",
    "<ul>\n",
    "  <li><b>for epoch in range(epochs)</b>: Loop runs for 20,000 iterations.</li>\n",
    "  <li><b>model(train_x)</b>: Performs forward pass to get predictions.</li>\n",
    "  <li><b>criterion(...)</b>: Calculates loss between predictions and actual labels.</li>\n",
    "  <li><b>losses.append()</b>: Saves the loss value for plotting later.</li>\n",
    "  <li><b>loss.backward()</b>: Computes gradients via backpropagation.</li>\n",
    "  <li><b>optimizer.step()</b>: Updates weights using the gradients.</li>\n",
    "  <li><b>optimizer.zero_grad()</b>: Clears old gradients before next backward pass.</li>\n",
    "  <li><b>if epoch % 500 == 0</b>: Prints progress every 500 epochs.</li>\n",
    "</ul>\n",
    "\n",
    "<p><b>Example Output:</b></p>\n",
    "\n",
    "<pre>\n",
    "Epoch [5001/20000]: Loss = 0.4212\n",
    "</pre>\n"
   ]
  },
  {
   "cell_type": "code",
   "execution_count": 8,
   "id": "58958cf1",
   "metadata": {},
   "outputs": [
    {
     "name": "stdout",
     "output_type": "stream",
     "text": [
      "Epoch [0/5000]: Loss = 1.2278720140457153\n",
      "Epoch [250/5000]: Loss = 0.8454306125640869\n",
      "Epoch [500/5000]: Loss = 0.6192030310630798\n",
      "Epoch [750/5000]: Loss = 0.5405597686767578\n",
      "Epoch [1000/5000]: Loss = 0.4911028742790222\n",
      "Epoch [1250/5000]: Loss = 0.45280784368515015\n",
      "Epoch [1500/5000]: Loss = 0.41873326897621155\n",
      "Epoch [1750/5000]: Loss = 0.3871346414089203\n",
      "Epoch [2000/5000]: Loss = 0.3580208420753479\n",
      "Epoch [2250/5000]: Loss = 0.3318772614002228\n",
      "Epoch [2500/5000]: Loss = 0.3088952898979187\n",
      "Epoch [2750/5000]: Loss = 0.28890666365623474\n",
      "Epoch [3000/5000]: Loss = 0.2715500593185425\n",
      "Epoch [3250/5000]: Loss = 0.2564157247543335\n",
      "Epoch [3500/5000]: Loss = 0.24315986037254333\n",
      "Epoch [3750/5000]: Loss = 0.23142336308956146\n",
      "Epoch [4000/5000]: Loss = 0.22094210982322693\n",
      "Epoch [4250/5000]: Loss = 0.21150735020637512\n",
      "Epoch [4500/5000]: Loss = 0.20295362174510956\n",
      "Epoch [4750/5000]: Loss = 0.19514983892440796\n"
     ]
    }
   ],
   "source": [
    "for epoch in range(epochs):                                     # Runs for 'epochs' times\n",
    "    output = model(train_x)                                     # Forward passing the training data from our model and obtaining an output\n",
    "    loss = criterion(output, train_y_one_hot.float())           # Calculating loss of our predicted output and the actual output\n",
    "    losses.append(loss.item())                                  # Saving the plain values (removing, tensor([5]) = 5) in the losses list\n",
    "    loss.backward()                                             # Doing a back propagation on the model/architecture/network/pipeline to obtain gradients\n",
    "    optimizer.step()                                            # Based on the gradients calculated by the backward(), update weights\n",
    "    optimizer.zero_grad()                                       # Zero the gradients of the current/old epoch/weights, so that we can get new/fresh gradients for the newly updated weights\n",
    "    \n",
    "    if epoch % 250 == 0:                                        # After every 500 epochs\n",
    "        print(f\"Epoch [{epoch}/{epochs}]: Loss = {loss}\")     # Display these information"
   ]
  },
  {
   "cell_type": "markdown",
   "id": "fb2e8ec9",
   "metadata": {},
   "source": [
    "<hr>\n",
    "<h3>📉 Visualizing the Training Loss</h3>\n",
    "\n",
    "<ul>\n",
    "  <li><b>plt.plot(losses)</b>: Plots the loss values recorded over epochs.</li>\n",
    "  <li><b>plt.show()</b>: Displays the loss graph.</li>\n",
    "</ul>\n",
    "\n",
    "<p><b>Purpose:</b> Helps track how well the model is learning over time.</p>\n",
    "\n",
    "<p><b>Example Output:</b></p>\n",
    "\n",
    "<pre>\n",
    "A line graph showing loss decreasing as training progresses.\n",
    "</pre>"
   ]
  },
  {
   "cell_type": "code",
   "execution_count": 9,
   "id": "01facc4a",
   "metadata": {},
   "outputs": [
    {
     "data": {
      "image/png": "[encoded data removed]",
      "text/plain": [
       "<Figure size 640x480 with 1 Axes>"
      ]
     },
     "metadata": {},
     "output_type": "display_data"
    }
   ],
   "source": [
    "plt.plot(losses)        # Plot the losses to a graph\n",
    "plt.show()              # Show the final graph"
   ]
  },
  {
   "cell_type": "markdown",
   "id": "6465d10c",
   "metadata": {},
   "source": [
    "<hr>\n",
    "<h3>🔍 Making Predictions on Test Data</h3>\n",
    "\n",
    "<ul>\n",
    "  <li><b>model(test_x)</b>: Forward pass on test features to get raw outputs.</li>\n",
    "  <li><b>torch.max(out.data, 1)</b>: Selects the class with the highest score as prediction.</li>\n",
    "  <li><b>predicted</b>: Stores predicted class labels.</li>\n",
    "  <li>Prints predicted and actual labels side-by-side for comparison.</li>\n",
    "</ul>\n",
    "\n",
    "<p><b>Example Output:</b></p>\n",
    "\n",
    "<pre>\n",
    "Predicted: tensor([0, 2, 1, ...])\n",
    "Actual   : tensor([0, 2, 1, ...])\n",
    "</pre>"
   ]
  },
  {
   "cell_type": "code",
   "execution_count": 10,
   "id": "3e8223b9",
   "metadata": {},
   "outputs": [
    {
     "name": "stdout",
     "output_type": "stream",
     "text": [
      "Predicted:  tensor([0, 0, 0, 0, 0, 0, 0, 0, 1, 1, 1, 1, 2, 1, 2, 0, 1, 1, 2, 2, 2, 2, 2, 2,\n",
      "        2, 2, 2, 2, 2, 2])\n",
      "Actual   :  tensor([0., 0., 0., 0., 0., 0., 0., 0., 1., 1., 1., 1., 1., 1., 1., 1., 1., 1.,\n",
      "        2., 2., 2., 2., 2., 2., 2., 2., 2., 2., 2., 2.])\n"
     ]
    }
   ],
   "source": [
    "out = model(test_x)                         # Doing a forward pass on the test features\n",
    "_, predicted = torch.max(out.data, 1)       # Obtaining the predicted values\n",
    "print(\"Predicted: \", predicted)             # Showing the predicted values for user's reference\n",
    "print(\"Actual   : \", test_y.squeeze())      # Showing the actual values for user's reference"
   ]
  },
  {
   "cell_type": "markdown",
   "id": "33145636",
   "metadata": {},
   "source": [
    "<hr>\n",
    "<h3>✅ Calculating Accuracy on Test Set</h3>\n",
    "\n",
    "<ul>\n",
    "  <li><b>correct</b>: Counts how many predictions match the actual labels.</li>\n",
    "  <li><b>total</b>: Total number of test samples.</li>\n",
    "  <li>Loop checks each predicted label against the actual label.</li>\n",
    "  <li>Prints the accuracy as a percentage.</li>\n",
    "</ul>\n",
    "\n",
    "<p><b>Example Output:</b></p>\n",
    "\n",
    "<pre>\n",
    "Accuracy of the network on the 30 test images: 93.33%\n",
    "</pre>"
   ]
  },
  {
   "cell_type": "code",
   "execution_count": 11,
   "id": "7d3169ed",
   "metadata": {},
   "outputs": [
    {
     "name": "stdout",
     "output_type": "stream",
     "text": [
      "Accuracy of the network on the 30 test images: 90.0%\n"
     ]
    }
   ],
   "source": [
    "correct = 0                                                                                 # Setting correct for saving the number of correct predictions                                 \n",
    "total = len(predicted)                                                                      # Saving the total number of predictions\n",
    "for i in range(total):                                                                      # Looping based on the total number\n",
    "    if predicted[i] == test_y[i]:                                                           # If the labels are equal\n",
    "        correct += 1                                                                        #   -> Increase the correct by +1\n",
    "print(f\"Accuracy of the network on the 30 test images: {100 * correct / total}%\")           # Show the final accuracy in percentage format"
   ]
  },
  {
   "cell_type": "markdown",
   "id": "8e7d57a2",
   "metadata": {},
   "source": [
    "<hr>\n",
    "<h3>🔮 Predicting a Single Sample</h3>\n",
    "\n",
    "<ul>\n",
    "  <li><b>x</b>: Sample feature values (sepal length, width, petal length, width).</li>\n",
    "  <li><b>torch.tensor(x)</b>: Converts list to tensor for model input.</li>\n",
    "  <li><b>model(x)</b>: Forward pass to get output scores for each class.</li>\n",
    "  <li>Higher value in output indicates the predicted class.</li>\n",
    "</ul>\n",
    "\n",
    "<p><b>Example Output:</b></p>\n",
    "\n",
    "<pre>\n",
    "tensor([2.1, 5.3, 0.7])  # Higher value at index 1 suggests class 1 prediction\n",
    "</pre>"
   ]
  },
  {
   "cell_type": "code",
   "execution_count": 12,
   "id": "0b51f3ac",
   "metadata": {},
   "outputs": [
    {
     "data": {
      "text/plain": [
       "tensor([ 2.6058,  0.3477, -3.3561], grad_fn=<ViewBackward0>)"
      ]
     },
     "execution_count": 12,
     "metadata": {},
     "output_type": "execute_result"
    }
   ],
   "source": [
    "x = [4.9000, 3.0000, 1.4000, 0.2000]        # Sample values, could be taken from the dataset as well\n",
    "y = model(torch.tensor(x))                  # Converting the list to tensor and then passing it from the model for forward pass\n",
    "y                                           # Displaying the values, greater value on a particular neuron meaning that very class"
   ]
  },
  {
   "cell_type": "markdown",
   "id": "14a9caf7",
   "metadata": {},
   "source": [
    "<h1>The End</h1>"
   ]
  }
 ],
 "metadata": {
  "kernelspec": {
   "display_name": "base",
   "language": "python",
   "name": "python3"
  },
  "language_info": {
   "codemirror_mode": {
    "name": "ipython",
    "version": 3
   },
   "file_extension": ".py",
   "mimetype": "text/x-python",
   "name": "python",
   "nbconvert_exporter": "python",
   "pygments_lexer": "ipython3",
   "version": "3.12.7"
  }
 },
 "nbformat": 4,
 "nbformat_minor": 5
}
