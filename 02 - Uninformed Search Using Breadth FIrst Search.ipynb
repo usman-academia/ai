{
  "cells": [
    {
      "cell_type": "code",
      "execution_count": 1,
      "metadata": {},
      "outputs": [],
      "source": [
        "from collections import deque\n",
        "from IPython.display import clear_output\n",
        "import time\n",
        "import copy"
      ]
    },
    {
      "cell_type": "code",
      "execution_count": 2,
      "metadata": {},
      "outputs": [],
      "source": [
        "def clear_screen():\n",
        "    clear_output(wait=True)\n",
        "\n",
        "def display_board(board):\n",
        "    print(\"+---+---+---+\")\n",
        "    for row in board:\n",
        "        print(\"|\", end=\"\")\n",
        "        for cell in row:\n",
        "            tile = ' ' if cell == 0 else str(cell)\n",
        "            print(f\" {tile} |\", end=\"\")\n",
        "        print(\"\\n+---+---+---+\")\n",
        "    print()\n",
        "\n",
        "def find_zero(board):\n",
        "    for i in range(3):\n",
        "        for j in range(3):\n",
        "            if board[i][j] == 0:\n",
        "                return i, j\n",
        "    raise ValueError(\"No zero found in board.\")\n",
        "\n",
        "def move_up(state):\n",
        "    x, y = find_zero(state)\n",
        "    if x == 0:\n",
        "        return None\n",
        "    new_state = copy.deepcopy(state)\n",
        "    new_state[x][y], new_state[x-1][y] = new_state[x-1][y], new_state[x][y]\n",
        "    return new_state\n",
        "\n",
        "def move_down(state):\n",
        "    x, y = find_zero(state)\n",
        "    if x == 2:\n",
        "        return None\n",
        "    new_state = copy.deepcopy(state)\n",
        "    new_state[x][y], new_state[x+1][y] = new_state[x+1][y], new_state[x][y]\n",
        "    return new_state\n",
        "\n",
        "def move_left(state):\n",
        "    x, y = find_zero(state)\n",
        "    if y == 0:\n",
        "        return None\n",
        "    new_state = copy.deepcopy(state)\n",
        "    new_state[x][y], new_state[x][y-1] = new_state[x][y-1], new_state[x][y]\n",
        "    return new_state\n",
        "\n",
        "def move_right(state):\n",
        "    x, y = find_zero(state)\n",
        "    if y == 2:\n",
        "        return None\n",
        "    new_state = copy.deepcopy(state)\n",
        "    new_state[x][y], new_state[x][y+1] = new_state[x][y+1], new_state[x][y]\n",
        "    return new_state\n",
        "\n",
        "def get_valid_moves(board):\n",
        "    x, y = find_zero(board)\n",
        "    moves = []\n",
        "    if x > 0: moves.append(move_up)\n",
        "    if x < 2: moves.append(move_down)\n",
        "    if y > 0: moves.append(move_left)\n",
        "    if y < 2: moves.append(move_right)\n",
        "    return moves\n",
        "\n",
        "def board_to_tuple(board):\n",
        "    return tuple(tuple(row) for row in board)\n",
        "\n",
        "# ✅ BFS implementation\n",
        "def bfs(start, goal):\n",
        "    queue = deque([(start, [])])  # queue holds (state, path_so_far)\n",
        "    visited = set()\n",
        "\n",
        "    steps = 0\n",
        "    while queue:\n",
        "        current, path = queue.popleft()\n",
        "\n",
        "        clear_screen()\n",
        "        print(f\"Level: {len(path)}\")\n",
        "        display_board(current)\n",
        "        time.sleep(0.3)\n",
        "\n",
        "        if current == goal:\n",
        "            print(f\"🎉 Goal reached in {steps} steps!\")\n",
        "            return path + [current]\n",
        "\n",
        "        visited.add(board_to_tuple(current))\n",
        "\n",
        "        for move in get_valid_moves(current):\n",
        "            new_state = move(current)\n",
        "            if new_state and board_to_tuple(new_state) not in visited:\n",
        "                queue.append((new_state, path + [current]))\n",
        "        \n",
        "        steps = steps + 1\n",
        "\n",
        "    print(\"❌ Goal not reachable.\")\n",
        "    return None"
      ]
    },
    {
      "cell_type": "code",
      "execution_count": 3,
      "metadata": {},
      "outputs": [
        {
          "name": "stdout",
          "output_type": "stream",
          "text": [
            "Level: 4\n",
            "+---+---+---+\n",
            "| 1 | 2 | 3 |\n",
            "+---+---+---+\n",
            "| 4 | 5 | 6 |\n",
            "+---+---+---+\n",
            "| 7 | 8 |   |\n",
            "+---+---+---+\n",
            "\n",
            "🎉 Goal reached in 28 steps!\n"
          ]
        },
        {
          "data": {
            "text/plain": [
              "[[[0, 1, 3], [4, 2, 5], [7, 8, 6]],\n",
              " [[1, 0, 3], [4, 2, 5], [7, 8, 6]],\n",
              " [[1, 2, 3], [4, 0, 5], [7, 8, 6]],\n",
              " [[1, 2, 3], [4, 5, 0], [7, 8, 6]],\n",
              " [[1, 2, 3], [4, 5, 6], [7, 8, 0]]]"
            ]
          },
          "execution_count": 3,
          "metadata": {},
          "output_type": "execute_result"
        }
      ],
      "source": [
        "starting_node = [[0, 1, 3], [4, 2, 5], [7, 8, 6]]\n",
        "goal_node = [[1, 2, 3], [4, 5, 6], [7, 8, 0]]\n",
        "\n",
        "bfs(starting_node, goal_node)"
      ]
    },
    {
      "cell_type": "markdown",
      "metadata": {},
      "source": [
        "***\n",
        "***\n",
        "***"
      ]
    }
  ],
  "metadata": {
    "colab": {
      "provenance": []
    },
    "kernelspec": {
      "display_name": "base",
      "language": "python",
      "name": "python3"
    },
    "language_info": {
      "codemirror_mode": {
        "name": "ipython",
        "version": 3
      },
      "file_extension": ".py",
      "mimetype": "text/x-python",
      "name": "python",
      "nbconvert_exporter": "python",
      "pygments_lexer": "ipython3",
      "version": "3.12.7"
    }
  },
  "nbformat": 4,
  "nbformat_minor": 0
}
