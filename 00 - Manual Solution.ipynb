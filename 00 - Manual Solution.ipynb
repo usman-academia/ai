{
  "cells": [
    {
      "cell_type": "markdown",
      "metadata": {},
      "source": [
        "<h1>1. Board Display Function</h1>"
      ]
    },
    {
      "cell_type": "code",
      "execution_count": 1,
      "metadata": {
        "id": "aMraepzzWHJZ"
      },
      "outputs": [],
      "source": [
        "starting_node = [[0,1,3],[4,2,5],[7,8,6]]\n",
        "goal_node = [[1,2,3],[4,5,6],[7,8,0]]"
      ]
    },
    {
      "cell_type": "code",
      "execution_count": 2,
      "metadata": {
        "id": "7HmHhjorX_th"
      },
      "outputs": [
        {
          "name": "stdout",
          "output_type": "stream",
          "text": [
            "+---+---+---+\n",
            "|   | 1 | 3 |\n",
            "+---+---+---+\n",
            "| 4 | 2 | 5 |\n",
            "+---+---+---+\n",
            "| 7 | 8 | 6 |\n",
            "+---+---+---+\n",
            "\n",
            "+---+---+---+\n",
            "| 1 | 2 | 3 |\n",
            "+---+---+---+\n",
            "| 4 | 5 | 6 |\n",
            "+---+---+---+\n",
            "| 7 | 8 |   |\n",
            "+---+---+---+\n",
            "\n"
          ]
        }
      ],
      "source": [
        "def display_board(board):\n",
        "    print(\"+---+---+---+\")\n",
        "    for row in board:\n",
        "        print(\"|\", end=\"\")\n",
        "        for cell in row:\n",
        "            tile = ' ' if cell == 0 else str(cell)\n",
        "            print(f\" {tile} |\", end=\"\")\n",
        "        print(\"\\n+---+---+---+\")\n",
        "    print()\n",
        "\n",
        "display_board(starting_node)\n",
        "display_board(goal_node)"
      ]
    },
    {
      "cell_type": "markdown",
      "metadata": {},
      "source": [
        "<h1>2. Functions for Movements</h1>"
      ]
    },
    {
      "cell_type": "code",
      "execution_count": 3,
      "metadata": {},
      "outputs": [],
      "source": [
        "import copy\n",
        "\n",
        "def find_zero(board):\n",
        "    for i in range(3):\n",
        "        for j in range(3):\n",
        "            if board[i][j] == 0:\n",
        "                return i, j\n",
        "    raise ValueError(\"No zero found in board.\")\n",
        "\n",
        "def move_up(state):\n",
        "    x, y = find_zero(state)\n",
        "    if x == 0:\n",
        "        return None\n",
        "    new_state = copy.deepcopy(state)\n",
        "    new_state[x][y], new_state[x-1][y] = new_state[x-1][y], new_state[x][y]\n",
        "    return new_state\n",
        "\n",
        "def move_down(state):\n",
        "    x, y = find_zero(state)\n",
        "    if x == 2:\n",
        "        return None\n",
        "    new_state = copy.deepcopy(state)\n",
        "    new_state[x][y], new_state[x+1][y] = new_state[x+1][y], new_state[x][y]\n",
        "    return new_state\n",
        "\n",
        "def move_left(state):\n",
        "    x, y = find_zero(state)\n",
        "    if y == 0:\n",
        "        return None\n",
        "    new_state = copy.deepcopy(state)\n",
        "    new_state[x][y], new_state[x][y-1] = new_state[x][y-1], new_state[x][y]\n",
        "    return new_state\n",
        "\n",
        "def move_right(state):\n",
        "    x, y = find_zero(state)\n",
        "    if y == 2:\n",
        "        return None\n",
        "    new_state = copy.deepcopy(state)\n",
        "    new_state[x][y], new_state[x][y+1] = new_state[x][y+1], new_state[x][y]\n",
        "    return new_state"
      ]
    },
    {
      "cell_type": "code",
      "execution_count": 4,
      "metadata": {
        "id": "ldBrFLOUmeVf"
      },
      "outputs": [
        {
          "name": "stdout",
          "output_type": "stream",
          "text": [
            "+---+---+---+\n",
            "| 1 | 2 | 3 |\n",
            "+---+---+---+\n",
            "| 4 | 5 |   |\n",
            "+---+---+---+\n",
            "| 7 | 8 | 6 |\n",
            "+---+---+---+\n",
            "\n",
            "+---+---+---+\n",
            "| 1 | 2 | 3 |\n",
            "+---+---+---+\n",
            "| 4 | 5 |   |\n",
            "+---+---+---+\n",
            "| 7 | 8 | 6 |\n",
            "+---+---+---+\n",
            "\n"
          ]
        }
      ],
      "source": [
        "new_node = move_up(goal_node)\n",
        "display_board(new_node)\n",
        "\n",
        "# OR - Both are the same\n",
        "\n",
        "display_board(move_up(goal_node))"
      ]
    },
    {
      "cell_type": "markdown",
      "metadata": {},
      "source": [
        "<h1>3. Write Down Script for Manually Controlling the 0/Empty Tile of the 8-Puzzle Game</h1>"
      ]
    },
    {
      "cell_type": "code",
      "execution_count": 6,
      "metadata": {},
      "outputs": [
        {
          "name": "stdout",
          "output_type": "stream",
          "text": [
            "Step: 4\n",
            "+---+---+---+\n",
            "| 1 | 2 | 3 |\n",
            "+---+---+---+\n",
            "| 4 | 5 | 6 |\n",
            "+---+---+---+\n",
            "| 7 | 8 |   |\n",
            "+---+---+---+\n",
            "\n",
            "🎉 Goal state reached!\n"
          ]
        }
      ],
      "source": [
        "from IPython.display import clear_output\n",
        "import time  # Optional: to slow down the display, if needed\n",
        "\n",
        "def clear_screen():\n",
        "    clear_output(wait=True)\n",
        "\n",
        "def handle_input(cmd, board):\n",
        "    \"\"\"Map a single-character command to the move function.\"\"\"\n",
        "    cmd = cmd.lower()\n",
        "    move_map = {\n",
        "        'w': move_up,\n",
        "        'a': move_left,\n",
        "        's': move_down,\n",
        "        'd': move_right,\n",
        "    }\n",
        "    if cmd not in move_map:\n",
        "        print(\"Unknown command. Use W/A/S/D to move or Q to quit.\")\n",
        "        return board\n",
        "\n",
        "    new_board = move_map[cmd](board)\n",
        "    if new_board is None:\n",
        "        print(\"Invalid move.\")\n",
        "        return board\n",
        "    return new_board\n",
        "\n",
        "\n",
        "def play_8_puzzle(starting_node, goal_node):\n",
        "    current = copy.deepcopy(starting_node)\n",
        "    steps = 0\n",
        "\n",
        "    while True:\n",
        "        clear_screen()                     # ⬅️ Clear previous output\n",
        "        print(f\"Step: {steps}\")\n",
        "        display_board(current)            # ⬅️ Show current board\n",
        "\n",
        "        if current == goal_node:\n",
        "            print(\"🎉 Goal state reached!\")\n",
        "            break\n",
        "\n",
        "        cmd = input(\"Move (W/A/S/D), or Q to quit: \").strip()\n",
        "        if not cmd:\n",
        "            continue\n",
        "        if cmd.lower() == 'q':\n",
        "            print(\"Goodbye!\")\n",
        "            break\n",
        "\n",
        "        new_board = handle_input(cmd, current)\n",
        "        if new_board != current:\n",
        "            steps += 1\n",
        "        current = new_board\n",
        "        time.sleep(1)\n",
        "\n",
        "\n",
        "if __name__ == \"__main__\":\n",
        "    starting_node = [[0,1,3],[4,2,5],[7,8,6]]\n",
        "    play_8_puzzle(starting_node, goal_node=goal_node)\n"
      ]
    }
  ],
  "metadata": {
    "colab": {
      "provenance": []
    },
    "kernelspec": {
      "display_name": "base",
      "language": "python",
      "name": "python3"
    },
    "language_info": {
      "codemirror_mode": {
        "name": "ipython",
        "version": 3
      },
      "file_extension": ".py",
      "mimetype": "text/x-python",
      "name": "python",
      "nbconvert_exporter": "python",
      "pygments_lexer": "ipython3",
      "version": "3.12.7"
    }
  },
  "nbformat": 4,
  "nbformat_minor": 0
}
