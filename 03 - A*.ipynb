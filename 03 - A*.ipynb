{
  "cells": [
    {
      "cell_type": "markdown",
      "metadata": {},
      "source": [
        "**Greedy Best First Search:** “I’ll always go to the neighbor that looks closest to the goal.”\n",
        "\n",
        "**A-Star Search:** “I’ll go to the neighbor that best balances how far I’ve come and how near I still am.”"
      ]
    },
    {
      "cell_type": "code",
      "execution_count": 1,
      "metadata": {},
      "outputs": [],
      "source": [
        "# ─── Necessary Imports ────────────────────────────────────────────────────────\n",
        "\n",
        "import copy\n",
        "import heapq\n",
        "import time\n",
        "from IPython.display import clear_output"
      ]
    },
    {
      "cell_type": "code",
      "execution_count": 2,
      "metadata": {},
      "outputs": [],
      "source": [
        "# ─── Utility Functions ─────────────────────────────────────────────────────────\n",
        "\n",
        "def clear_screen():\n",
        "    \"\"\"Clear Jupyter cell output.\"\"\"\n",
        "    clear_output(wait=True)\n",
        "\n",
        "def display_board(board):\n",
        "    \"\"\"Display a 3×3 8-puzzle board in a nice grid.\"\"\"\n",
        "    print(\"+---+---+---+\")\n",
        "    for row in board:\n",
        "        print(\"|\", end=\"\")\n",
        "        for cell in row:\n",
        "            tile = \" \" if cell == 0 else str(cell)\n",
        "            print(f\" {tile} |\", end=\"\")\n",
        "        print(\"\\n+---+---+---+\")\n",
        "    print()\n",
        "\n",
        "def find_zero(board):\n",
        "    \"\"\"Find the (i,j) coordinates of the blank (0) tile.\"\"\"\n",
        "    for i in range(3):\n",
        "        for j in range(3):\n",
        "            if board[i][j] == 0:\n",
        "                return i, j\n",
        "    raise ValueError(\"No zero found in board.\")\n",
        "\n",
        "def board_to_tuple(board):\n",
        "    \"\"\"Convert 2D board to a hashable tuple-of-tuples.\"\"\"\n",
        "    return tuple(tuple(row) for row in board)"
      ]
    },
    {
      "cell_type": "code",
      "execution_count": 3,
      "metadata": {},
      "outputs": [],
      "source": [
        "# ─── Move Functions ────────────────────────────────────────────────────────────\n",
        "\n",
        "def move_up(state):\n",
        "    x, y = find_zero(state)\n",
        "    if x == 0:\n",
        "        return None\n",
        "    new_state = copy.deepcopy(state)\n",
        "    new_state[x][y], new_state[x-1][y] = new_state[x-1][y], new_state[x][y]\n",
        "    return new_state\n",
        "\n",
        "def move_down(state):\n",
        "    x, y = find_zero(state)\n",
        "    if x == 2:\n",
        "        return None\n",
        "    new_state = copy.deepcopy(state)\n",
        "    new_state[x][y], new_state[x+1][y] = new_state[x+1][y], new_state[x][y]\n",
        "    return new_state\n",
        "\n",
        "def move_left(state):\n",
        "    x, y = find_zero(state)\n",
        "    if y == 0:\n",
        "        return None\n",
        "    new_state = copy.deepcopy(state)\n",
        "    new_state[x][y], new_state[x][y-1] = new_state[x][y-1], new_state[x][y]\n",
        "    return new_state\n",
        "\n",
        "def move_right(state):\n",
        "    x, y = find_zero(state)\n",
        "    if y == 2:\n",
        "        return None\n",
        "    new_state = copy.deepcopy(state)\n",
        "    new_state[x][y], new_state[x][y+1] = new_state[x][y+1], new_state[x][y]\n",
        "    return new_state\n",
        "\n",
        "def get_valid_moves(board):\n",
        "    \"\"\"Return a list of move functions valid from this board.\"\"\"\n",
        "    x, y = find_zero(board)\n",
        "    moves = []\n",
        "    if x > 0: moves.append(move_up)\n",
        "    if x < 2: moves.append(move_down)\n",
        "    if y > 0: moves.append(move_left)\n",
        "    if y < 2: moves.append(move_right)\n",
        "    return moves"
      ]
    },
    {
      "cell_type": "code",
      "execution_count": 4,
      "metadata": {},
      "outputs": [],
      "source": [
        "# ─── Heuristic ─────────────────────────────────────────────────────────────────\n",
        "\n",
        "def compute_goal_positions(goal):\n",
        "    \"\"\"Precompute each tile’s goal (i,j).\"\"\"\n",
        "    pos = {}\n",
        "    for i in range(3):\n",
        "        for j in range(3):\n",
        "            pos[goal[i][j]] = (i, j)\n",
        "    return pos\n",
        "\n",
        "def manhattan_heuristic(board, goal_positions):\n",
        "    \"\"\"Sum of Manhattan distances of all tiles from their goal.\"\"\"\n",
        "    dist = 0\n",
        "    for i in range(3):\n",
        "        for j in range(3):\n",
        "            tile = board[i][j]\n",
        "            if tile != 0:\n",
        "                gi, gj = goal_positions[tile]\n",
        "                dist += abs(i - gi) + abs(j - gj)\n",
        "    return dist"
      ]
    },
    {
      "cell_type": "code",
      "execution_count": 5,
      "metadata": {},
      "outputs": [],
      "source": [
        "# ─── A* Search ────────────────────────────────────────────────────────────────\n",
        "\n",
        "def astar(start, goal):\n",
        "    \"\"\"Perform A* search from start to goal, animating each step.\"\"\"\n",
        "    goal_positions = compute_goal_positions(goal)\n",
        "    start_h = manhattan_heuristic(start, goal_positions)\n",
        "    \n",
        "    # frontier: min-heap of (f, g, board, path_so_far)\n",
        "    frontier = [(start_h, 0, start, [])]\n",
        "    visited = { board_to_tuple(start): 0 }\n",
        "\n",
        "    while frontier:\n",
        "        f, g, current, path = heapq.heappop(frontier)\n",
        "\n",
        "        clear_screen()\n",
        "        print(f\"g = {g}, h = {f - g}, f = {f}\")\n",
        "        display_board(current)\n",
        "        time.sleep(2)\n",
        "\n",
        "        if current == goal:\n",
        "            print(f\"🎉 Goal reached in {g} moves!\")\n",
        "            return path + [current]\n",
        "\n",
        "        for move in get_valid_moves(current):\n",
        "            neighbor = move(current)\n",
        "            if not neighbor:\n",
        "                continue\n",
        "            ng = g + 1\n",
        "            t = board_to_tuple(neighbor)\n",
        "\n",
        "            # If this path to neighbor is better than any seen before\n",
        "            if t not in visited or ng < visited[t]:\n",
        "                visited[t] = ng\n",
        "                nh = manhattan_heuristic(neighbor, goal_positions)\n",
        "                heapq.heappush(frontier, (ng + nh, ng, neighbor, path + [current]))\n",
        "\n",
        "    print(\"❌ No solution found.\")\n",
        "    return None"
      ]
    },
    {
      "cell_type": "code",
      "execution_count": 7,
      "metadata": {},
      "outputs": [
        {
          "name": "stdout",
          "output_type": "stream",
          "text": [
            "g = 4, h = 0, f = 4\n",
            "+---+---+---+\n",
            "| 1 | 2 | 3 |\n",
            "+---+---+---+\n",
            "| 4 | 5 | 6 |\n",
            "+---+---+---+\n",
            "| 7 | 8 |   |\n",
            "+---+---+---+\n",
            "\n",
            "🎉 Goal reached in 4 moves!\n"
          ]
        },
        {
          "data": {
            "text/plain": [
              "[[[0, 1, 3], [4, 2, 5], [7, 8, 6]],\n",
              " [[1, 0, 3], [4, 2, 5], [7, 8, 6]],\n",
              " [[1, 2, 3], [4, 0, 5], [7, 8, 6]],\n",
              " [[1, 2, 3], [4, 5, 0], [7, 8, 6]],\n",
              " [[1, 2, 3], [4, 5, 6], [7, 8, 0]]]"
            ]
          },
          "execution_count": 7,
          "metadata": {},
          "output_type": "execute_result"
        }
      ],
      "source": [
        "starting_node = [[0, 1, 3], [4, 2, 5], [7, 8, 6]]\n",
        "goal_node = [[1, 2, 3], [4, 5, 6], [7, 8, 0]]\n",
        "\n",
        "astar(starting_node, goal_node)"
      ]
    },
    {
      "cell_type": "markdown",
      "metadata": {},
      "source": [
        "***\n",
        "***\n",
        "***"
      ]
    }
  ],
  "metadata": {
    "colab": {
      "provenance": []
    },
    "kernelspec": {
      "display_name": "base",
      "language": "python",
      "name": "python3"
    },
    "language_info": {
      "codemirror_mode": {
        "name": "ipython",
        "version": 3
      },
      "file_extension": ".py",
      "mimetype": "text/x-python",
      "name": "python",
      "nbconvert_exporter": "python",
      "pygments_lexer": "ipython3",
      "version": "3.12.7"
    }
  },
  "nbformat": 4,
  "nbformat_minor": 0
}
